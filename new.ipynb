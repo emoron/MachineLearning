{
 "metadata": {
  "name": ""
 },
 "nbformat": 3,
 "nbformat_minor": 0,
 "worksheets": [
  {
   "cells": [
    {
     "cell_type": "markdown",
     "metadata": {},
     "source": [
      "The Euler Method\n",
      "================\n",
      "\n",
      "This notebook is a introduction to the *Euler Method*.\n",
      "\n",
      "Imagine you have a system described by a \"state\" **s**. The idea is that **s** is the collection of all the variables that are needed to specify the system's condition at some moment in time. If you know **s** at some time, then you know all you need to know to understand what the system is doing at that time. The idea is that there is some rule that determines the rate of change of **s** that depends on **s**, and possibly also on the time like so:\n",
      "\n",
      "$$\\frac{ds}{dt} = f(s,t)$$\n",
      "    \n",
      "So.. if we have a rule like this, and we know the state of the system now, Euler's method allows us to estimate the state at a later time. How? Simple.. $f(s,t)$ is telling us the rate of change of **s** itself. So, if a short period of time $\\Delta t$ passes what should be the corresponding change in s (called $\\Delta s$)?\n",
      "\n",
      "$$\\frac{\\Delta s}{\\Delta t} \\approx \\frac{ds}{dt} = f(s,t)$$\n",
      "\n",
      "Solving for $\\Delta{s}$ gives:\n",
      "\n",
      "$$\\Delta s \\approx f(s,t) \\Delta t$$\n",
      "\n",
      "That's the *Euler Method*! The only thing left is to add $\\Delta s$ to the old value of **s**, and repeat the process many times until you get the value of s at some later time.\n",
      "\n",
      "$$s_{\\rm new} = s_{\\rm old} + \\Delta s$$\n",
      "    \n",
      "Let's work out a detailed example 'by hand'...\n",
      "\n",
      "Example: Decay\n",
      "--------------\n",
      "\n",
      "First.. the worlds simplest example: Radioactive Decay. In radioactive decay the rate of decay is proportional to the number of radioactive nuclei in the sample at any given time.\n",
      "\n",
      "**s** = number of nuclei left\n",
      "\n",
      "$$\\frac{ds}{dt} = f(s,t) = - \\lambda s$$\n",
      "    \n",
      "Let's say we start with s=100 nuclei, $\\lambda=0.01$ (1 per 100 seconds of time per source nucleon). How many nuclei will be left after 10 seconds?  \n",
      "\n",
      "$\\frac{ds}{dt}$ will be $-\\lambda s = -(0.01 s^{-1})(100n) = -1 n/s$\n",
      "\n",
      "$s + \\Delta s = 100n + (-1n/s) (10s) = 90$ nuclei remaining.\n"
     ]
    },
    {
     "cell_type": "code",
     "collapsed": false,
     "input": [
      "lam=0.01\n",
      "dt=1.0\n",
      "s=s0=100.0\n",
      "t=0.0\n",
      "\n",
      "def f(s,t):\n",
      "    return -lam*s\n",
      "\n",
      "print 't     s'\n",
      "for i in range(11):\n",
      "    print t,s\n",
      "    ds = f(s,t)*dt\n",
      "    s = s + ds\n",
      "    t = t + dt\n"
     ],
     "language": "python",
     "metadata": {},
     "outputs": [
      {
       "output_type": "stream",
       "stream": "stdout",
       "text": [
        "t     s\n",
        "0.0 100.0\n",
        "1.0 99.0\n",
        "2.0 98.01\n",
        "3.0 97.0299\n",
        "4.0 96.059601\n",
        "5.0 95.09900499\n",
        "6.0 94.1480149401\n",
        "7.0 93.2065347907\n",
        "8.0 92.2744694428\n",
        "9.0 91.3517247484\n",
        "10.0 90.4382075009\n"
       ]
      }
     ],
     "prompt_number": 1
    },
    {
     "cell_type": "markdown",
     "metadata": {},
     "source": [
      "Now lets add a plot. Turn on the \"pylab\" environment:"
     ]
    },
    {
     "cell_type": "code",
     "collapsed": false,
     "input": [
      "%pylab inline"
     ],
     "language": "python",
     "metadata": {},
     "outputs": [
      {
       "output_type": "stream",
       "stream": "stdout",
       "text": [
        "Populating the interactive namespace from numpy and matplotlib\n"
       ]
      }
     ],
     "prompt_number": 2
    },
    {
     "cell_type": "markdown",
     "metadata": {},
     "source": [
      "Good! Next collect some lists of data (slist and tlist) and use the \"plot\" function to display the values graphically."
     ]
    },
    {
     "cell_type": "code",
     "collapsed": false,
     "input": [
      "slist=[]\n",
      "tlist=[]\n",
      "\n",
      "lam=0.01\n",
      "dt=1.0\n",
      "s=s0=100.0\n",
      "t=0.0\n",
      "\n",
      "tlist.append(t)\n",
      "slist.append(s)\n",
      "\n",
      "print 't     s'\n",
      "for i in range(11):\n",
      "    s += -lam*s*dt\n",
      "    t += dt\n",
      "    tlist.append(t)\n",
      "    slist.append(s)\n",
      "\n",
      "#plot(tlist, slist, 'b.', tlist, 100.0*exp(-lam*array(tlist)))\n",
      "print \"tlist=\", tlist\n",
      "print \"slist=\", slist\n",
      "\n",
      "exact = s0*exp(-lam*array(tlist))"
     ],
     "language": "python",
     "metadata": {},
     "outputs": [
      {
       "output_type": "stream",
       "stream": "stdout",
       "text": [
        "t     s\n",
        "tlist= [0.0, 1.0, 2.0, 3.0, 4.0, 5.0, 6.0, 7.0, 8.0, 9.0, 10.0, 11.0]\n",
        "slist= [100.0, 99.0, 98.01, 97.02990000000001, 96.05960100000001, 95.09900499000001, 94.14801494010001, 93.20653479069901, 92.27446944279203, 91.3517247483641, 90.43820750088047, 89.53382542587165]\n"
       ]
      }
     ],
     "prompt_number": 3
    },
    {
     "cell_type": "markdown",
     "metadata": {},
     "source": [
      " Now, during the \"in class\" work time this week we'll pretty this up and compare to our analytical solution."
     ]
    },
    {
     "cell_type": "code",
     "collapsed": false,
     "input": [
      "title('Decay Results')\n",
      "xlabel('time (s)')\n",
      "ylabel('n (nuclei)')\n",
      "plot(tlist, slist, 'b.', tlist, exact, 'r-')"
     ],
     "language": "python",
     "metadata": {},
     "outputs": [
      {
       "metadata": {},
       "output_type": "pyout",
       "prompt_number": 4,
       "text": [
        "[<matplotlib.lines.Line2D at 0x105f80e10>,\n",
        " <matplotlib.lines.Line2D at 0x105fb0750>]"
       ]
      },
      {
       "metadata": {},
       "output_type": "display_data",
       "png": "[encoded data removed]",
       "text": [
        "<matplotlib.figure.Figure at 0x105f80e50>"
       ]
      }
     ],
     "prompt_number": 4
    },
    {
     "cell_type": "markdown",
     "metadata": {},
     "source": [
      "Project 1: The Euler Method\n",
      "============================\n",
      "\n",
      "Use the Euler method to estimate parameters of a free fall model.\n",
      "\n",
      "Using data from this slide: <http://www.cabrillo.edu/~dbrown/tracker/air_resistance.pdf>\n",
      "\n",
      "And the following model:\n",
      "\n",
      "$$ +b v^2 - m g = m \\frac{dv}{dt}$$\n",
      "\n",
      "Assuming the mass is $m\\approx 3.5\\,{\\rm g}$ and $g\\approx 9.8\\,{\\rm m/s}$, estimate the value of the parameter $b$.\n",
      "\n",
      "Below you will find most of the code already worked out as a detailed example. You need to read the code and understand what it's doing. If you have questions, **ASK!**\n"
     ]
    },
    {
     "cell_type": "code",
     "collapsed": false,
     "input": [
      "#\n",
      "# Here is the raw data for the position of the muffin cup as a function of time. Use the \"split\" function to break it into\n",
      "# a list of (possibly empty) strings.\n",
      "#\n",
      "\n",
      "data = \"\"\"\n",
      "0.000000000E0\t-2.688162330E0\n",
      "3.336670003E-2\t-4.301059729E0\n",
      "6.673340007E-2\t-5.376324661E0\n",
      "1.001001001E-1\t-6.989222059E0\n",
      "1.334668001E-1\t-1.129028179E1\n",
      "1.668335002E-1\t-1.451607658E1\n",
      "2.002002002E-1\t-2.043003371E1\n",
      "2.335669002E-1\t-2.526872591E1\n",
      "2.669336003E-1\t-3.118268303E1\n",
      "3.003003003E-1\t-3.870953756E1\n",
      "3.336670003E-1\t-4.623639208E1\n",
      "3.670337004E-1\t-5.430087907E1\n",
      "4.004004004E-1\t-6.236536606E1\n",
      "4.337671004E-1\t-7.150511799E1\n",
      "4.671338005E-1\t-8.010723744E1\n",
      "5.005005005E-1\t-8.924698937E1\n",
      "5.338672005E-1\t-9.892437376E1\n",
      "5.672339006E-1\t-1.080641257E2\n",
      "6.006006006E-1\t-1.177415101E2\n",
      "6.339673006E-1\t-1.274188945E2\n",
      "6.673340007E-1\t-1.370962788E2\n",
      "7.007007007E-1\t-1.467736632E2\n",
      "7.340674007E-1\t-1.575263126E2\n",
      "7.674341008E-1\t-1.672036969E2\n",
      "8.008008008E-1\t-1.768810813E2\n",
      "8.341675008E-1\t-1.865584657E2\n",
      "8.675342009E-1\t-1.973111150E2\n",
      "9.009009009E-1\t-2.075261319E2\n",
      "9.342676009E-1\t-2.182787812E2\n",
      "9.676343010E-1\t-2.284937981E2\n",
      "\"\"\".split('\\n')  # split this string on the \"newline\" character.\n",
      "\n",
      "print len(data)\n"
     ],
     "language": "python",
     "metadata": {},
     "outputs": [
      {
       "output_type": "stream",
       "stream": "stdout",
       "text": [
        "32\n"
       ]
      }
     ],
     "prompt_number": 18
    },
    {
     "cell_type": "code",
     "collapsed": false,
     "input": [
      "#\n",
      "# Here we'll take the list of strings defined above and break it into actual numbers in reasonable units.\n",
      "#\n",
      "\n",
      "tlist = []\n",
      "ylist = []\n",
      "for s in data:\n",
      "    if s:\n",
      "        t,y = s.split()     # break string in two\n",
      "        t=float(t)          # convert time to float\n",
      "        y=float(y)/100.0    # convert distanct (in meters) to float\n",
      "        tlist.append(t)\n",
      "        ylist.append(y)\n",
      "        \n",
      "print \"tlist=\",tlist\n",
      "print \"ylist=\",ylist\n"
     ],
     "language": "python",
     "metadata": {},
     "outputs": [
      {
       "output_type": "stream",
       "stream": "stdout",
       "text": [
        "tlist= [0.0, 0.03336670003, 0.06673340007, 0.1001001001, 0.1334668001, 0.1668335002, 0.2002002002, 0.2335669002, 0.2669336003, 0.3003003003, 0.3336670003, 0.3670337004, 0.4004004004, 0.4337671004, 0.4671338005, 0.5005005005, 0.5338672005, 0.5672339006, 0.6006006006, 0.6339673006, 0.6673340007, 0.7007007007, 0.7340674007, 0.7674341008, 0.8008008008, 0.8341675008, 0.8675342009, 0.9009009009, 0.9342676009, 0.967634301]\n",
        "ylist= [-0.0268816233, -0.04301059729, -0.05376324661, -0.06989222059, -0.1129028179, -0.1451607658, -0.2043003371, -0.2526872591, -0.3118268303, -0.3870953756, -0.4623639208, -0.5430087907, -0.6236536606, -0.7150511799, -0.8010723744, -0.8924698937, -0.9892437376, -1.0806412570000001, -1.177415101, -1.274188945, -1.370962788, -1.4677366319999998, -1.575263126, -1.672036969, -1.768810813, -1.865584657, -1.97311115, -2.075261319, -2.182787812, -2.284937981]\n"
       ]
      }
     ],
     "prompt_number": 11
    },
    {
     "cell_type": "code",
     "collapsed": false,
     "input": [
      "%pylab inline"
     ],
     "language": "python",
     "metadata": {},
     "outputs": [
      {
       "output_type": "stream",
       "stream": "stdout",
       "text": [
        "Populating the interactive namespace from numpy and matplotlib\n"
       ]
      }
     ],
     "prompt_number": 3
    },
    {
     "cell_type": "code",
     "collapsed": false,
     "input": [
      "plot(tlist, ylist)"
     ],
     "language": "python",
     "metadata": {},
     "outputs": [
      {
       "metadata": {},
       "output_type": "pyout",
       "prompt_number": 12,
       "text": [
        "[<matplotlib.lines.Line2D at 0x1068c54d0>]"
       ]
      },
      {
       "metadata": {},
       "output_type": "display_data",
       "png": "[encoded data removed]",
       "text": [
        "<matplotlib.figure.Figure at 0x1060b2cd0>"
       ]
      }
     ],
     "prompt_number": 12
    },
    {
     "cell_type": "code",
     "collapsed": false,
     "input": [
      "vlist = []  # Velocity list (computed velocities from experimental data)\n",
      "tvlist = []  # time list (times for corresponding velocities)\n",
      "for i in range(1,len(tlist)):\n",
      "    dy=ylist[i]-ylist[i-1]\n",
      "    dt=tlist[i]-tlist[i-1]\n",
      "    vlist.append(dy/dt)\n",
      "    tvlist.append((tlist[i]+tlist[i-1])/2.0)\n",
      "    \n",
      "plot(tvlist,vlist,'g.')"
     ],
     "language": "python",
     "metadata": {},
     "outputs": [
      {
       "metadata": {},
       "output_type": "pyout",
       "prompt_number": 13,
       "text": [
        "[<matplotlib.lines.Line2D at 0x1068f4c90>]"
       ]
      },
      {
       "metadata": {},
       "output_type": "display_data",
       "png": "[encoded data removed]",
       "text": [
        "<matplotlib.figure.Figure at 0x1066a8c50>"
       ]
      }
     ],
     "prompt_number": 13
    },
    {
     "cell_type": "code",
     "collapsed": false,
     "input": [
      "m=0.0035  # kg\n",
      "g=9.8     # m/s\n",
      "b=0.001    # total guess, need to improve\n",
      "\n",
      "v=0.0     # start with zero velocity\n",
      "\n",
      "dt = (tlist[-1]-tlist[0])/(len(tlist)-1)  # time per frame in original video\n",
      "t=0.0\n",
      "\n",
      "vclist = [v]\n",
      "tclist = [t]\n",
      "\n",
      "def deriv(v, t):\n",
      "    return b*v**2/m - g\n",
      "\n",
      "for i in range(len(tlist)):\n",
      "    dv = deriv(v,t)*dt\n",
      "    v += dv\n",
      "    t += dt\n",
      "    \n",
      "    vclist.append(v)\n",
      "    tclist.append(t)\n",
      "    \n",
      "title(\"Comparison of experimental and drag model\")\n",
      "xlabel(\"time(s)\")\n",
      "ylabel(\"velocity (m/s)\")\n",
      "plot(tclist, vclist, 'r-',tvlist,vlist,'g.')\n"
     ],
     "language": "python",
     "metadata": {},
     "outputs": [
      {
       "metadata": {},
       "output_type": "pyout",
       "prompt_number": 19,
       "text": [
        "[<matplotlib.lines.Line2D at 0x10708e5d0>,\n",
        " <matplotlib.lines.Line2D at 0x10723bfd0>]"
       ]
      },
      {
       "metadata": {},
       "output_type": "display_data",
       "png": "[encoded data removed]",
       "text": [
        "<matplotlib.figure.Figure at 0x10708e3d0>"
       ]
      }
     ],
     "prompt_number": 19
    },
    {
     "cell_type": "markdown",
     "metadata": {},
     "source": [
      "So, clearly our initial guess of \"b\" was too small, try again!..\n",
      "\n",
      "ALSO, bonus points if you work out the analytical solution for $v(t)$ and compare that with the Euler Model result.\n"
     ]
    },
    {
     "cell_type": "code",
     "collapsed": false,
     "input": [],
     "language": "python",
     "metadata": {},
     "outputs": []
    }
   ],
   "metadata": {}
  }
 ]
}
